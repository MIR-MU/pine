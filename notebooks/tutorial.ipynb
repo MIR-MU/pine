{
  "nbformat": 4,
  "nbformat_minor": 0,
  "metadata": {
    "colab": {
      "name": "Tutorial: Training + Masked Word Prediction + Language Modeling + Importance of Positions",
      "provenance": [],
      "collapsed_sections": [
        "n20UQ4NX-H6T",
        "u2XoMNTGFLEF",
        "7s9e6QSbHx0s",
        "GO_GxTtLJ9xT",
        "fMcsCe4fNk_z",
        "0tuVqDWwSGNl",
        "7zIkubG2Y2Nt",
        "XL052-zdZmBV"
      ]
    },
    "kernelspec": {
      "name": "python3",
      "display_name": "Python 3"
    },
    "language_info": {
      "name": "python"
    }
  },
  "cells": [
    {
      "cell_type": "markdown",
      "metadata": {
        "id": "hc01ewzl0FKo"
      },
      "source": [
        "# Tutorial: Training, Masked Word Prediction, Language Modeling, Importance of Positions\n",
        "\n",
        "In this tutorial, we are going to train our *position-independent word embeddings* and compare it with the word embeddings of the subword model (fastText) of [Bojanowski et al. (2017)][1] and the positional model of [Mikolov et al. (2018)][2] on a number of natural language processing tasks.\n",
        "\n",
        " [1]: https://www.aclweb.org/anthology/Q17-1010.pdf\n",
        " [2]: https://www.aclweb.org/anthology/L18-1008.pdf\n",
        "\n",
        "## Word Embeddings\n",
        "\n",
        "Recent deep neural language models based on the Transformer architecture are Turing-complete universal approximators that can understand language better than humans on a number of natural language processing tasks.\n",
        "\n",
        "In contrast, log-bilinear language models such as word2vec, fastText, and GLoVE are shallow and use a simplifying bag-of-words representation of text, which severely limits their predictive ability. However, they are fast and cheap to train on large corpora and their internal *word embeddings* can be used for transfer-learning to improve the performance of other models.\n",
        "\n",
        "## Position-Independent Word Embeddings\n",
        "\n",
        "Our constrained positional model improves the bag-of-words representation of text by allowing the model to react to the position of words in a sentence and produce *position-independent word embeddings* without sacrificing the simplicity and speed that is pivotal to the success of log-bilinear language models. Unlike the positional model of [Mikolov et al. (2018)][2], our model *constrains* the capacity dedicated to modeling the positions of words, which improves the speed of the model as well as its accuracy on a number of natural language processing tasks.\n",
        "\n",
        "## Python Package\n",
        "\n",
        "You can find our package [here][3].\n",
        "\n",
        "[![Continuous Integration Status](https://github.com/MIR-MU/pine/workflows/Test/badge.svg)](https://github.com/MIR-MU/pine/actions?query=workflow%3ATest)\n",
        "[![Documentation Status](https://readthedocs.org/projects/position-independent-embeddings/badge/?version=latest)](https://readthedocs.org/projects/position-independent-embeddings/?badge=latest)\n",
        "\n",
        " [3]: https://github.com/MIR-MU/pine\n"
      ]
    },
    {
      "cell_type": "markdown",
      "metadata": {
        "id": "F7eErml95YGN"
      },
      "source": [
        "# Installing Position-Independent Word Embeddings\n",
        "\n",
        "First, we will install our position-independent word embeddings library."
      ]
    },
    {
      "cell_type": "code",
      "metadata": {
        "id": "XFQj-0cHzv86"
      },
      "source": [
        "%%capture\n",
        "! pip install -U pip\n",
        "! pip install git+https://github.com/MIR-MU/pine.git\n",
        "! pip install -U gdown"
      ],
      "execution_count": 1,
      "outputs": []
    },
    {
      "cell_type": "markdown",
      "metadata": {
        "id": "cp6oU-Ck7o7F"
      },
      "source": [
        "## Restart the Notebook\n",
        "\n",
        "For the changes to take effect, we now need to restart the notebook.\n",
        "\n",
        "From the Menu:\n",
        "\n",
        "Runtime → Restart Runtime"
      ]
    },
    {
      "cell_type": "markdown",
      "metadata": {
        "id": "e0WokrI07xC7"
      },
      "source": [
        "# Downloading the Workspace Data\n",
        "\n",
        "For convenience, we will download a workspace with pre-trained language models (20 GiB), so that we don't have to wait for their training to finish. If you would like to reproduce our results, you can skip this step."
      ]
    },
    {
      "cell_type": "code",
      "metadata": {
        "id": "YCQsL7_7gets"
      },
      "source": [
        "from gdown.cached_download import cached_download as download"
      ],
      "execution_count": 2,
      "outputs": []
    },
    {
      "cell_type": "code",
      "metadata": {
        "id": "z3SCGf-r8T9P"
      },
      "source": [
        "download('https://drive.google.com/uc?id=1jgYM4HP-y7BBshf8ntTk4oAYXTWf929O', 'pine-workspace.zip')"
      ],
      "execution_count": null,
      "outputs": []
    },
    {
      "cell_type": "code",
      "metadata": {
        "id": "Eg9sFDzPEkRI"
      },
      "source": [
        "%%capture\n",
        "! unzip -n pine-workspace.zip"
      ],
      "execution_count": 4,
      "outputs": []
    },
    {
      "cell_type": "markdown",
      "metadata": {
        "id": "n20UQ4NX-H6T"
      },
      "source": [
        "# Training the Language Models\n",
        "\n",
        "In this section of our tutorial, we are going to introduce and train a number of different shallow log-bilinear language models of the English Wikipedia corpus (15 GiB). In the following sections, we will compare these models on a number of quantitative and qualitative tasks!"
      ]
    },
    {
      "cell_type": "code",
      "metadata": {
        "id": "mWcDNlO_-w9U"
      },
      "source": [
        "from pine import LanguageModel"
      ],
      "execution_count": 5,
      "outputs": []
    },
    {
      "cell_type": "markdown",
      "metadata": {
        "id": "fb4rkWG2-REW"
      },
      "source": [
        "First, we will train the subword model (fastText) of [Bojanowski et al. (2017)][1]. Unlike the earlier word2vec model, fastText uses subwords as well as words during the training. This is known to improve the speed of convergence, especially for inflected natural languages.\n",
        "\n",
        " [1]: https://www.aclweb.org/anthology/Q17-1010.pdf"
      ]
    },
    {
      "cell_type": "code",
      "metadata": {
        "id": "5as1QFug-sFy",
        "colab": {
          "base_uri": "https://localhost:8080/"
        },
        "outputId": "a55abe2e-8ef3-4faa-c030-61f8c50e5ee7"
      },
      "source": [
        "subword_model = LanguageModel(corpus='wikipedia', language='en', positions=False)\n",
        "subword_model"
      ],
      "execution_count": 6,
      "outputs": [
        {
          "output_type": "execute_result",
          "data": {
            "text/plain": [
              "Language model: wikipedia-en-fasttext_cbow\n",
              "Word analogy accuracy: 66.39% (en)\n",
              "Disk size: 9.0 GB (+ 0 Bytes in cache)\n",
              "Training duration: an hour"
            ]
          },
          "metadata": {
            "tags": []
          },
          "execution_count": 6
        }
      ]
    },
    {
      "cell_type": "markdown",
      "metadata": {
        "id": "X_NlcbIB_KfP"
      },
      "source": [
        "You can see that the model is fast and breezes through the entire English Wikipedia in just an hour of training time."
      ]
    },
    {
      "cell_type": "markdown",
      "metadata": {
        "id": "1O2cFLGM_pet"
      },
      "source": [
        "Next, we will train the positional model of [Mikolov et al. (2018)][1]. Unlike word2vec and fastText, the positional model trains not only word embedding and subword embeddings, but also *positional embeddings*. This makes it possible for the model to distinguish between words on different positions in a sentence and produce a better position-independent representations of words.\n",
        "\n",
        " [1]: https://www.aclweb.org/anthology/L18-1008.pdf"
      ]
    },
    {
      "cell_type": "code",
      "metadata": {
        "id": "k0vm-B84_eOF",
        "colab": {
          "base_uri": "https://localhost:8080/"
        },
        "outputId": "1e1f26fc-80fe-4aed-aebd-9a7ac4e16f07"
      },
      "source": [
        "positional_model = LanguageModel(corpus='wikipedia', language='en', positions='full', use_vocab_from=subword_model)\n",
        "positional_model"
      ],
      "execution_count": 7,
      "outputs": [
        {
          "output_type": "execute_result",
          "data": {
            "text/plain": [
              "Language model: wikipedia-en-positional_fasttext_cbow\n",
              "Word analogy accuracy: 74.85% (en)\n",
              "Disk size: 8.9 GB (+ 0 Bytes in cache)\n",
              "Training duration: 4 hours"
            ]
          },
          "metadata": {
            "tags": []
          },
          "execution_count": 7
        }
      ]
    },
    {
      "cell_type": "markdown",
      "metadata": {
        "id": "Jk2OPTOwAN1l"
      },
      "source": [
        "We can see that the positional model is four times slower than fastText. There are several factors that contribute to this slowdown:\n",
        "\n",
        " 1. Due to its better language modeling capabilities, the positional model is able to make use of a three times larger *context window* (15 instead of 5) during the training. Although this improves the accuracy of the model, it also triples the amount of work at each step of the training.\n",
        " 2. Unlike the fastText model, which only updates word and subword embeddings at each step of the training, the positional model also updates the positional weights, which doubles the amount of word at each step of the training.\n",
        "\n",
        "[Novotný (2020)][1] shows that this slowdown makes the positional model impractical, since training the fastText model for four more epochs than the positional model leads to greater accuracy than what the positional model can achieve.\n",
        "\n",
        " [1]: https://nlp.fi.muni.cz/raslan/raslan20.pdf#page=63"
      ]
    },
    {
      "cell_type": "markdown",
      "metadata": {
        "id": "KptzlgkgDAxT"
      },
      "source": [
        "Finally, we will train our constrained positional model. Unlike the positional model, which uses 300 *dimensions* for word, subword, and positional embeddings, out constrained positional model only uses 60 dimensions for the positional embeddings, which we show leads to greater speed and a better representation of words."
      ]
    },
    {
      "cell_type": "code",
      "metadata": {
        "id": "rBL_E7GaCdP3",
        "colab": {
          "base_uri": "https://localhost:8080/"
        },
        "outputId": "694f9d4d-02e3-42fe-93c8-44867a5c4537"
      },
      "source": [
        "constrained_positional_model = LanguageModel(corpus='wikipedia', language='en', positions='constrained', use_vocab_from=subword_model)\n",
        "constrained_positional_model"
      ],
      "execution_count": 8,
      "outputs": [
        {
          "output_type": "execute_result",
          "data": {
            "text/plain": [
              "Language model: wikipedia-en-constrained_positional_fasttext_cbow\n",
              "Word analogy accuracy: 72.26% (en)\n",
              "Disk size: 8.8 GB (+ 0 Bytes in cache)\n",
              "Training duration: 2 hours"
            ]
          },
          "metadata": {
            "tags": []
          },
          "execution_count": 8
        }
      ]
    },
    {
      "cell_type": "markdown",
      "metadata": {
        "id": "t0u16PU0DlvY"
      },
      "source": [
        "We can see that our constrained positional model is only twice as slow as fastText. This improvement is due to the smaller dimensionality of the positional embeddings."
      ]
    },
    {
      "cell_type": "code",
      "metadata": {
        "id": "LgqVmY0LXRrI"
      },
      "source": [
        "language_models = [subword_model, positional_model, constrained_positional_model]"
      ],
      "execution_count": 9,
      "outputs": []
    },
    {
      "cell_type": "markdown",
      "metadata": {
        "id": "u2XoMNTGFLEF"
      },
      "source": [
        "# Masked Word Prediction\n",
        "\n",
        "We usually only use the word embeddings and throw away the shallow log-bilinear language models. This is because these models are not so great at actual language modeling due to their simplifying bag-of-words representation of text. However, with the addition of positional embeddings, the models should now be much more capable at predictive typing.\n",
        "\n",
        "In this section, we will take a look at a number of sentences with some words *masked*. We will the investigate what our models predict the masked words should be."
      ]
    },
    {
      "cell_type": "markdown",
      "metadata": {
        "id": "7s9e6QSbHx0s"
      },
      "source": [
        "## It's Raining Cats and Dogs!\n",
        "\n",
        "The first two sentences will test the ability of our models to consider the positions of words:\n",
        "\n",
        " 1. Unlike cats, dogs *(masked word)*.\n",
        " 2. Unlike dogs, cats *(masked word)*.\n",
        "\n",
        "As our candidates for the masked words, we will use the words *mew* and *bark*."
      ]
    },
    {
      "cell_type": "code",
      "metadata": {
        "id": "5HCyd6StIS9A"
      },
      "source": [
        "unlike_dogs_cats = ['unlike', 'dogs', 'cats', '[MASK]']\n",
        "unlike_cats_dogs = ['unlike', 'cats', 'dogs', '[MASK]']"
      ],
      "execution_count": 10,
      "outputs": []
    },
    {
      "cell_type": "markdown",
      "metadata": {
        "id": "LoSg7iAfH5qJ"
      },
      "source": [
        "For the fastText model, these two sentences are identical, since the model only sees the bag-of-words representation $\\{\\text{cats}, \\text{dogs}, \\text{unlike}\\}$:"
      ]
    },
    {
      "cell_type": "code",
      "metadata": {
        "colab": {
          "base_uri": "https://localhost:8080/"
        },
        "id": "flQFZW-SFP-D",
        "outputId": "3b338b23-f3b5-4e22-b509-03701623dca9"
      },
      "source": [
        "subword_model.get_masked_word_probability(unlike_dogs_cats, 'mew')"
      ],
      "execution_count": 11,
      "outputs": [
        {
          "output_type": "execute_result",
          "data": {
            "text/plain": [
              "unlike dogs cats [MASKED: mew] (score -0.63, probability 34.83%)"
            ]
          },
          "metadata": {
            "tags": []
          },
          "execution_count": 11
        }
      ]
    },
    {
      "cell_type": "code",
      "metadata": {
        "colab": {
          "base_uri": "https://localhost:8080/"
        },
        "id": "NgOGGvpDJD0G",
        "outputId": "5d8ca837-1b4e-474e-a109-6704a1519e04"
      },
      "source": [
        "subword_model.get_masked_word_probability(unlike_cats_dogs, 'mew')"
      ],
      "execution_count": 12,
      "outputs": [
        {
          "output_type": "execute_result",
          "data": {
            "text/plain": [
              "unlike cats dogs [MASKED: mew] (score -0.63, probability 34.83%)"
            ]
          },
          "metadata": {
            "tags": []
          },
          "execution_count": 12
        }
      ]
    },
    {
      "cell_type": "code",
      "metadata": {
        "colab": {
          "base_uri": "https://localhost:8080/"
        },
        "id": "2tV3raREIp91",
        "outputId": "eaf64f86-4407-48ac-ee35-ac9fe5637f92"
      },
      "source": [
        "subword_model.get_masked_word_probability(unlike_dogs_cats, 'bark')"
      ],
      "execution_count": 13,
      "outputs": [
        {
          "output_type": "execute_result",
          "data": {
            "text/plain": [
              "unlike dogs cats [MASKED: bark] (score 4.84, probability 99.22%)"
            ]
          },
          "metadata": {
            "tags": []
          },
          "execution_count": 13
        }
      ]
    },
    {
      "cell_type": "code",
      "metadata": {
        "colab": {
          "base_uri": "https://localhost:8080/"
        },
        "id": "xqkHOw8mJNh7",
        "outputId": "1a800147-8f5e-4c3c-9ca7-f2719deee6c7"
      },
      "source": [
        "subword_model.get_masked_word_probability(unlike_cats_dogs, 'bark')"
      ],
      "execution_count": 14,
      "outputs": [
        {
          "output_type": "execute_result",
          "data": {
            "text/plain": [
              "unlike cats dogs [MASKED: bark] (score 4.84, probability 99.22%)"
            ]
          },
          "metadata": {
            "tags": []
          },
          "execution_count": 14
        }
      ]
    },
    {
      "cell_type": "markdown",
      "metadata": {
        "id": "M_b5LjD4JSun"
      },
      "source": [
        "However, the positional model can differentiate between the two sentences.  \n",
        "For the first sentence, the positional model correctly ranks *mew* above *bark*:"
      ]
    },
    {
      "cell_type": "code",
      "metadata": {
        "colab": {
          "base_uri": "https://localhost:8080/"
        },
        "id": "2HmMpn6nJjz7",
        "outputId": "73bff7ba-0821-4f4d-a4ff-8f36b0cbe194"
      },
      "source": [
        "positional_model.get_masked_word_probability(unlike_dogs_cats, 'mew')"
      ],
      "execution_count": 15,
      "outputs": [
        {
          "output_type": "execute_result",
          "data": {
            "text/plain": [
              "unlike dogs cats [MASKED: mew] (score 9.58, probability 99.99%)"
            ]
          },
          "metadata": {
            "tags": []
          },
          "execution_count": 15
        }
      ]
    },
    {
      "cell_type": "code",
      "metadata": {
        "colab": {
          "base_uri": "https://localhost:8080/"
        },
        "id": "6efewmkeJm8g",
        "outputId": "82470201-65a2-49b5-e898-7768aedb1fb9"
      },
      "source": [
        "positional_model.get_masked_word_probability(unlike_dogs_cats, 'bark')"
      ],
      "execution_count": 16,
      "outputs": [
        {
          "output_type": "execute_result",
          "data": {
            "text/plain": [
              "unlike dogs cats [MASKED: bark] (score 5.70, probability 99.67%)"
            ]
          },
          "metadata": {
            "tags": []
          },
          "execution_count": 16
        }
      ]
    },
    {
      "cell_type": "markdown",
      "metadata": {
        "id": "B4DSVyGMJsqq"
      },
      "source": [
        "For the second sentence, the positional model correctly ranks *bark* above *mew*:"
      ]
    },
    {
      "cell_type": "code",
      "metadata": {
        "colab": {
          "base_uri": "https://localhost:8080/"
        },
        "id": "6KABT9pfJzt8",
        "outputId": "27ed6215-4f21-41e3-fca8-7aa0ebd30ef7"
      },
      "source": [
        "positional_model.get_masked_word_probability(unlike_cats_dogs, 'bark')"
      ],
      "execution_count": 17,
      "outputs": [
        {
          "output_type": "execute_result",
          "data": {
            "text/plain": [
              "unlike cats dogs [MASKED: bark] (score 7.22, probability 99.93%)"
            ]
          },
          "metadata": {
            "tags": []
          },
          "execution_count": 17
        }
      ]
    },
    {
      "cell_type": "code",
      "metadata": {
        "colab": {
          "base_uri": "https://localhost:8080/"
        },
        "id": "FTvaGFobJ4CA",
        "outputId": "91eaa3de-ee20-4c40-c684-8470434f62e8"
      },
      "source": [
        "positional_model.get_masked_word_probability(unlike_cats_dogs, 'mew')"
      ],
      "execution_count": 18,
      "outputs": [
        {
          "output_type": "execute_result",
          "data": {
            "text/plain": [
              "unlike cats dogs [MASKED: mew] (score 6.07, probability 99.77%)"
            ]
          },
          "metadata": {
            "tags": []
          },
          "execution_count": 18
        }
      ]
    },
    {
      "cell_type": "markdown",
      "metadata": {
        "id": "GO_GxTtLJ9xT"
      },
      "source": [
        "## Fruit Flies Like a Banana, Time Flies Like an Arrow!\n",
        "\n",
        "The other two sentences will test the ability of our models to distinguish between two sentences, where one is ambiguous and the other is not:\n",
        "\n",
        "1. Fruit flies like *(masked word)*.\n",
        "2. *(Masked word)* flies like fruit.\n",
        "\n",
        "The first sentence has two possible interpretations:\n",
        "\n",
        "- What the insects like. Here, the sentence parses as adjective-noun-verb-*(noun)*.\n",
        "- How a fruit can fly. Here, the sentence parses as noun-verb-preposition-*(noun)*.\n",
        "\n",
        "Some masked words such as *moisture* satisfy only the first interpretation. Others, such as *a vegetable* satisfy both.\n",
        "\n",
        "The second sentence only admits the second interpretation. The masked words still include *a vegetable*, but no longer *moisture*."
      ]
    },
    {
      "cell_type": "code",
      "metadata": {
        "id": "0d491bo-KJWl"
      },
      "source": [
        "fruit_flies_like = ['fruit', 'flies', 'like', '[MASK]']\n",
        "flies_like_fruit = ['[MASK]', 'flies', 'like', 'fruit']"
      ],
      "execution_count": 19,
      "outputs": []
    },
    {
      "cell_type": "markdown",
      "metadata": {
        "id": "i8KElscrL-Iq"
      },
      "source": [
        "For fastText, the two sentences are again identical, since the model only sees the bag-of-words representation $\\{\\text{like}, \\text{flies}, \\text{fruit}\\}$:"
      ]
    },
    {
      "cell_type": "code",
      "metadata": {
        "colab": {
          "base_uri": "https://localhost:8080/"
        },
        "id": "EROnaMaOMNcL",
        "outputId": "52a7c45c-1bec-4789-de4c-4158649d0a50"
      },
      "source": [
        "subword_model.get_masked_word_probability(sentence=fruit_flies_like, masked_word='moisture')"
      ],
      "execution_count": 20,
      "outputs": [
        {
          "output_type": "execute_result",
          "data": {
            "text/plain": [
              "fruit flies like [MASKED: moisture] (score 0.47, probability 61.56%)"
            ]
          },
          "metadata": {
            "tags": []
          },
          "execution_count": 20
        }
      ]
    },
    {
      "cell_type": "code",
      "metadata": {
        "colab": {
          "base_uri": "https://localhost:8080/"
        },
        "id": "46pwDQdqMV2s",
        "outputId": "30163590-378f-421a-9bcb-136cf0a94785"
      },
      "source": [
        "subword_model.get_masked_word_probability(masked_word='moisture', sentence=flies_like_fruit)"
      ],
      "execution_count": 21,
      "outputs": [
        {
          "output_type": "execute_result",
          "data": {
            "text/plain": [
              "[MASKED: moisture] flies like fruit (score 0.47, probability 61.56%)"
            ]
          },
          "metadata": {
            "tags": []
          },
          "execution_count": 21
        }
      ]
    },
    {
      "cell_type": "code",
      "metadata": {
        "colab": {
          "base_uri": "https://localhost:8080/"
        },
        "id": "KIO9VEU_MaMI",
        "outputId": "08077b00-3155-4b9e-b03c-4567af7799de"
      },
      "source": [
        "subword_model.get_masked_word_probability(sentence=fruit_flies_like, masked_word='vegetable')"
      ],
      "execution_count": 22,
      "outputs": [
        {
          "output_type": "execute_result",
          "data": {
            "text/plain": [
              "fruit flies like [MASKED: vegetable] (score 5.74, probability 99.68%)"
            ]
          },
          "metadata": {
            "tags": []
          },
          "execution_count": 22
        }
      ]
    },
    {
      "cell_type": "code",
      "metadata": {
        "colab": {
          "base_uri": "https://localhost:8080/"
        },
        "id": "85A2E-rRMc2O",
        "outputId": "726a428f-17e9-462b-df46-965169c159ca"
      },
      "source": [
        "subword_model.get_masked_word_probability(masked_word='vegetable', sentence=flies_like_fruit)"
      ],
      "execution_count": 23,
      "outputs": [
        {
          "output_type": "execute_result",
          "data": {
            "text/plain": [
              "[MASKED: vegetable] flies like fruit (score 5.74, probability 99.68%)"
            ]
          },
          "metadata": {
            "tags": []
          },
          "execution_count": 23
        }
      ]
    },
    {
      "cell_type": "markdown",
      "metadata": {
        "id": "feCkVw1NMgRK"
      },
      "source": [
        "However, our constrained positional model can differentiate between the two sentences.  \n",
        "For the masked word *moisture*, the model correctly ranks it higher for the first sentence than it does for the second sentence:"
      ]
    },
    {
      "cell_type": "code",
      "metadata": {
        "colab": {
          "base_uri": "https://localhost:8080/"
        },
        "id": "AVW2nB-JM96h",
        "outputId": "06b931e8-d05b-45d2-dc24-f85c1fcfa684"
      },
      "source": [
        "constrained_positional_model.get_masked_word_probability(sentence=fruit_flies_like, masked_word='moisture')"
      ],
      "execution_count": 24,
      "outputs": [
        {
          "output_type": "execute_result",
          "data": {
            "text/plain": [
              "fruit flies like [MASKED: moisture] (score 0.83, probability 69.58%)"
            ]
          },
          "metadata": {
            "tags": []
          },
          "execution_count": 24
        }
      ]
    },
    {
      "cell_type": "code",
      "metadata": {
        "colab": {
          "base_uri": "https://localhost:8080/"
        },
        "id": "sXix0Ur_NCEy",
        "outputId": "94017649-8fc1-4749-96dc-0e724a0f41ba"
      },
      "source": [
        "constrained_positional_model.get_masked_word_probability(masked_word='moisture', sentence=flies_like_fruit)"
      ],
      "execution_count": 25,
      "outputs": [
        {
          "output_type": "execute_result",
          "data": {
            "text/plain": [
              "[MASKED: moisture] flies like fruit (score -0.29, probability 42.83%)"
            ]
          },
          "metadata": {
            "tags": []
          },
          "execution_count": 25
        }
      ]
    },
    {
      "cell_type": "markdown",
      "metadata": {
        "id": "9YWxfThONFzn"
      },
      "source": [
        "For the masked word *vegetable*, the model correctly assigns similar probability in both sentences:"
      ]
    },
    {
      "cell_type": "code",
      "metadata": {
        "colab": {
          "base_uri": "https://localhost:8080/"
        },
        "id": "skZTlv02NOBt",
        "outputId": "906743d2-ef28-498d-f7e4-8550a2a4c14b"
      },
      "source": [
        "constrained_positional_model.get_masked_word_probability(sentence=fruit_flies_like, masked_word='vegetable')"
      ],
      "execution_count": 26,
      "outputs": [
        {
          "output_type": "execute_result",
          "data": {
            "text/plain": [
              "fruit flies like [MASKED: vegetable] (score 7.19, probability 99.92%)"
            ]
          },
          "metadata": {
            "tags": []
          },
          "execution_count": 26
        }
      ]
    },
    {
      "cell_type": "code",
      "metadata": {
        "colab": {
          "base_uri": "https://localhost:8080/"
        },
        "id": "R3ECVGbINPsX",
        "outputId": "dec59c0b-0dbd-4fb1-ab95-96b6aa17c897"
      },
      "source": [
        "constrained_positional_model.get_masked_word_probability(masked_word='vegetable', sentence=flies_like_fruit)"
      ],
      "execution_count": 27,
      "outputs": [
        {
          "output_type": "execute_result",
          "data": {
            "text/plain": [
              "[MASKED: vegetable] flies like fruit (score 6.89, probability 99.90%)"
            ]
          },
          "metadata": {
            "tags": []
          },
          "execution_count": 27
        }
      ]
    },
    {
      "cell_type": "markdown",
      "metadata": {
        "id": "fMcsCe4fNk_z"
      },
      "source": [
        "# Language Modeling\n",
        "\n",
        "One of the great strengths of shallow log-bilinear language models it the ability to use transfer-learning with their word embeddings to improve the performance of other models.\n",
        "\n",
        "In this section, we will train three RNN language models, using the word embeddings of fastText, the positional model, and the constrained positional model to initialize the lookup tables of these RNN language models. This will show us how useful the word embeddings of each model are for transfer learning."
      ]
    },
    {
      "cell_type": "markdown",
      "metadata": {
        "id": "cbXsX5kSO4fa"
      },
      "source": [
        "The RNN architecture we will be using for the language models is the following:\n",
        "\n",
        "1. an input layer mapping a vocabulary of words to their *frozen* word embeddings,\n",
        "2. two hidden layers with 300 LSTM units,\n",
        "3. a fully-connected linear layer of size the size of the vocabulary, and\n",
        "4. a softmax output layer that computes a probability distribution over the vocabulary using tied weights.\n",
        "\n",
        "We evaluate our language model on [the English datasets][1] introduced by [Botha et al. (2014)][2] and we report the validation and test perplexities. We use the same preprocessing and data splits as Botha et al. (2014).\n",
        "\n",
        " [1]: http://bothameister.github.io/\n",
        " [2]: http://proceedings.mlr.press/v32/botha14.pdf\n",
        "\n",
        "To train the RNN, we use stochastic gradient descent over 50 epochs, negative log-likelihood loss, dropout 0.5, batch size 40, and an initial learning rate 20 that is divided by 4 after each epoch with no decrease of validation loss. We clip gradients with $\\ell_2$-norm above 0.25."
      ]
    },
    {
      "cell_type": "markdown",
      "metadata": {
        "id": "lQ6muJosP00X"
      },
      "source": [
        "If we compare the results for our three models, we can see that fastText word embeddings are the least useful for transfer learning, the word embeddings of the positional model are a strong second, whereas our position-independent embeddings are the most useful:"
      ]
    },
    {
      "cell_type": "code",
      "metadata": {
        "colab": {
          "base_uri": "https://localhost:8080/"
        },
        "id": "v9DMHdVUPr6H",
        "outputId": "7a6b8d10-6ed5-452f-b00f-94bd0ea92002"
      },
      "source": [
        "print(subword_model.language_modeling)"
      ],
      "execution_count": 28,
      "outputs": [
        {
          "output_type": "stream",
          "text": [
            "Test perplexity of wikipedia-en-fasttext_cbow: 360.91\n"
          ],
          "name": "stdout"
        }
      ]
    },
    {
      "cell_type": "code",
      "metadata": {
        "colab": {
          "base_uri": "https://localhost:8080/"
        },
        "id": "J8kEeV65QHd7",
        "outputId": "90a29619-da27-45ff-a214-72335dc8a4d6"
      },
      "source": [
        "print(positional_model.language_modeling)"
      ],
      "execution_count": 29,
      "outputs": [
        {
          "output_type": "stream",
          "text": [
            "Test perplexity of wikipedia-en-positional_fasttext_cbow: 347.52\n"
          ],
          "name": "stdout"
        }
      ]
    },
    {
      "cell_type": "code",
      "metadata": {
        "colab": {
          "base_uri": "https://localhost:8080/"
        },
        "id": "RRvZ8wTUQHgB",
        "outputId": "5cce4854-bb3b-4b5f-82a3-5f4bdb31582c"
      },
      "source": [
        "print(constrained_positional_model.language_modeling)"
      ],
      "execution_count": 30,
      "outputs": [
        {
          "output_type": "stream",
          "text": [
            "Test perplexity of wikipedia-en-constrained_positional_fasttext_cbow: 343.13\n"
          ],
          "name": "stdout"
        }
      ]
    },
    {
      "cell_type": "markdown",
      "metadata": {
        "id": "HFZit-aJQWRZ"
      },
      "source": [
        "We can have a look how each of the RNN language models improved during the training. We can see that although the word embeddings of the positional model lead to fast convergence, it is the constrained positional model that reaches the best performance in the end:"
      ]
    },
    {
      "cell_type": "code",
      "metadata": {
        "id": "H4a8W0NpRSW2"
      },
      "source": [
        "from pine.quantitative_evaluation import plot_language_modeling_results"
      ],
      "execution_count": 31,
      "outputs": []
    },
    {
      "cell_type": "code",
      "metadata": {
        "colab": {
          "base_uri": "https://localhost:8080/",
          "height": 0
        },
        "id": "q9Js1ArhRE-5",
        "outputId": "38fe070e-1071-4002-ae41-da67416a0a5d"
      },
      "source": [
        "figure = plot_language_modeling_results(*language_models, subset='validation', kind='perplexity')"
      ],
      "execution_count": 32,
      "outputs": [
        {
          "output_type": "display_data",
          "data": {
            "image/png": "[encoded data removed]",
            "text/plain": [
              "<Figure size 432x288 with 1 Axes>"
            ]
          },
          "metadata": {
            "tags": [],
            "needs_background": "light"
          }
        }
      ]
    },
    {
      "cell_type": "markdown",
      "metadata": {
        "id": "A8-Yyg2uRaqN"
      },
      "source": [
        "This is also nicely shown by the learning rate, which decreases the slowest for the RNN language model initialized with the position-independent word embeddings of the constrained positional model, indicating a greater capacity for learning:"
      ]
    },
    {
      "cell_type": "code",
      "metadata": {
        "colab": {
          "base_uri": "https://localhost:8080/",
          "height": 0
        },
        "id": "9mDW7wmBR3Qe",
        "outputId": "f9f4833d-9e91-44ba-8965-67678e469694"
      },
      "source": [
        "figure = plot_language_modeling_results(*language_models, subset='train', kind='learning_rate')"
      ],
      "execution_count": 33,
      "outputs": [
        {
          "output_type": "display_data",
          "data": {
            "image/png": "[encoded data removed]",
            "text/plain": [
              "<Figure size 432x288 with 1 Axes>"
            ]
          },
          "metadata": {
            "tags": [],
            "needs_background": "light"
          }
        }
      ]
    },
    {
      "cell_type": "markdown",
      "metadata": {
        "id": "0tuVqDWwSGNl"
      },
      "source": [
        "# Importance of Positions\n",
        "\n",
        "So far, we have only looked at the applications of the *word* embeddings produced by our models. However, the embeddings of *positions* produced by the positional and constrained positional models are an interesting new object in and of themselves.\n",
        "\n",
        "In this section, we will visualize the positional embeddings and we will discuss their properties and possible applications for transfer learning."
      ]
    },
    {
      "cell_type": "markdown",
      "metadata": {
        "id": "W9Smk7O9Wpu-"
      },
      "source": [
        "To inspect the general purpose of positional embeddings, we can plot their magnitude. This shows us that one of the basic functions of positional embeddings is the attenuation of distant context words:"
      ]
    },
    {
      "cell_type": "code",
      "metadata": {
        "id": "vGXQJONLS6Bs"
      },
      "source": [
        "from pine.qualitative_evaluation import plot_position_importance"
      ],
      "execution_count": 34,
      "outputs": []
    },
    {
      "cell_type": "code",
      "metadata": {
        "colab": {
          "base_uri": "https://localhost:8080/",
          "height": 265
        },
        "id": "fSAIBq2AXL5o",
        "outputId": "de870335-2775-4c0f-fab9-983c88febf8b"
      },
      "source": [
        "figure = plot_position_importance(positional_model, constrained_positional_model)"
      ],
      "execution_count": 35,
      "outputs": [
        {
          "output_type": "display_data",
          "data": {
            "image/png": "[encoded data removed]",
            "text/plain": [
              "<Figure size 432x288 with 1 Axes>"
            ]
          },
          "metadata": {
            "tags": [],
            "needs_background": "light"
          }
        }
      ]
    },
    {
      "cell_type": "markdown",
      "metadata": {
        "id": "zKFk9T-DXk3r"
      },
      "source": [
        "Interestingly, in the positional model, the importance of positions $p\\not\\in [-2; 2]$ increases with their distance from the masked word and even exceeds the importance of position $p=-2$ in the distant left context $p<-12$. In the constrained positional model, the importance of positions $p\\not\\in [-2; 2]$ is almost constant."
      ]
    },
    {
      "cell_type": "markdown",
      "metadata": {
        "id": "nTAhjAdNX2F7"
      },
      "source": [
        "To explain this puzzling behavior, we will plot not the magnitude of the positional embeddings, but the absolute values of the actual *features of the positional embeddings*. To make it easier to see what is going on, we will split the features into different clusters to make it easier to see the different types of behavior they exhibit:"
      ]
    },
    {
      "cell_type": "code",
      "metadata": {
        "id": "6m8Yzq88hwQr"
      },
      "source": [
        "import matplotlib.pyplot as plt\n",
        "\n",
        "plt.rcParams['image.cmap'] = 'tab10'"
      ],
      "execution_count": 36,
      "outputs": []
    },
    {
      "cell_type": "code",
      "metadata": {
        "colab": {
          "base_uri": "https://localhost:8080/",
          "height": 265
        },
        "id": "j1Dh-tnWYR0j",
        "outputId": "3eb36c8b-8f8b-45f6-81d4-e8bdb0711b74"
      },
      "source": [
        "figure = positional_model.positional_feature_clusters.plot()"
      ],
      "execution_count": 37,
      "outputs": [
        {
          "output_type": "display_data",
          "data": {
            "image/png": "[encoded data removed]",
            "text/plain": [
              "<Figure size 432x288 with 1 Axes>"
            ]
          },
          "metadata": {
            "tags": [],
            "needs_background": "light"
          }
        }
      ]
    },
    {
      "cell_type": "code",
      "metadata": {
        "colab": {
          "base_uri": "https://localhost:8080/",
          "height": 265
        },
        "id": "gj9ZjzDNYjTB",
        "outputId": "51e4c1ff-f42d-4b36-d990-365914508adf"
      },
      "source": [
        "figure = constrained_positional_model.positional_feature_clusters.plot()"
      ],
      "execution_count": 38,
      "outputs": [
        {
          "output_type": "display_data",
          "data": {
            "image/png": "[encoded data removed]",
            "text/plain": [
              "<Figure size 432x288 with 1 Axes>"
            ]
          },
          "metadata": {
            "tags": [],
            "needs_background": "light"
          }
        }
      ]
    },
    {
      "cell_type": "markdown",
      "metadata": {
        "id": "hBFZzg3xYmQ2"
      },
      "source": [
        "We can see that in the positional model, the features of positional vectors fall into three main clusters: The two smaller clusters, which we call *antepositional* and *postpositional*, and the bigger cluster, which is missing from the constrained positional model and which we call *informational*."
      ]
    },
    {
      "cell_type": "markdown",
      "metadata": {
        "id": "7zIkubG2Y2Nt"
      },
      "source": [
        "## Antepositional and Postpositional Features\n",
        "\n",
        "The antepositional and postpositional features increase the importance of positions $p$ in anteposition ($-2, -1$) and in postposition ($1, 2$) of the masked word, respectively."
      ]
    },
    {
      "cell_type": "markdown",
      "metadata": {
        "id": "dyPoImPHZrnU"
      },
      "source": [
        "Context words most affected by antepositional features include “in”, “for”, and “coca”:"
      ]
    },
    {
      "cell_type": "code",
      "metadata": {
        "colab": {
          "base_uri": "https://localhost:8080/",
          "height": 0
        },
        "id": "1JKzNYdMY37Z",
        "outputId": "e38de064-ae77-49d2-c452-37e7865e23d3"
      },
      "source": [
        "constrained_positional_model.classify_context_word('in')"
      ],
      "execution_count": 39,
      "outputs": [
        {
          "output_type": "execute_result",
          "data": {
            "application/vnd.google.colaboratory.intrinsic+json": {
              "type": "string"
            },
            "text/plain": [
              "'antepositional'"
            ]
          },
          "metadata": {
            "tags": []
          },
          "execution_count": 39
        }
      ]
    },
    {
      "cell_type": "code",
      "metadata": {
        "colab": {
          "base_uri": "https://localhost:8080/",
          "height": 0
        },
        "id": "Bmo0js7SZPoS",
        "outputId": "fd00e0fe-71ab-49ff-eb36-4b5a4b1073ef"
      },
      "source": [
        "constrained_positional_model.classify_context_word('for')"
      ],
      "execution_count": 40,
      "outputs": [
        {
          "output_type": "execute_result",
          "data": {
            "application/vnd.google.colaboratory.intrinsic+json": {
              "type": "string"
            },
            "text/plain": [
              "'antepositional'"
            ]
          },
          "metadata": {
            "tags": []
          },
          "execution_count": 40
        }
      ]
    },
    {
      "cell_type": "code",
      "metadata": {
        "colab": {
          "base_uri": "https://localhost:8080/",
          "height": 0
        },
        "id": "Z2tnmK6YZQkq",
        "outputId": "b9367523-167f-4722-ad09-da09c08279d9"
      },
      "source": [
        "constrained_positional_model.classify_context_word('coca')"
      ],
      "execution_count": 41,
      "outputs": [
        {
          "output_type": "execute_result",
          "data": {
            "application/vnd.google.colaboratory.intrinsic+json": {
              "type": "string"
            },
            "text/plain": [
              "'antepositional'"
            ]
          },
          "metadata": {
            "tags": []
          },
          "execution_count": 41
        }
      ]
    },
    {
      "cell_type": "markdown",
      "metadata": {
        "id": "TZbp9ETeZTl9"
      },
      "source": [
        "Context words most affected by postpositional features include “ago”, “else”, and “cola”:"
      ]
    },
    {
      "cell_type": "code",
      "metadata": {
        "colab": {
          "base_uri": "https://localhost:8080/",
          "height": 0
        },
        "id": "OvviRnx6Zfno",
        "outputId": "13564a06-19da-4aab-a825-ea63f2d2e700"
      },
      "source": [
        "constrained_positional_model.classify_context_word('ago')"
      ],
      "execution_count": 42,
      "outputs": [
        {
          "output_type": "execute_result",
          "data": {
            "application/vnd.google.colaboratory.intrinsic+json": {
              "type": "string"
            },
            "text/plain": [
              "'postpositional'"
            ]
          },
          "metadata": {
            "tags": []
          },
          "execution_count": 42
        }
      ]
    },
    {
      "cell_type": "code",
      "metadata": {
        "colab": {
          "base_uri": "https://localhost:8080/",
          "height": 0
        },
        "id": "hhRtJe6-ZgYQ",
        "outputId": "8204bb60-7260-4ed5-b822-8d0a6f650c92"
      },
      "source": [
        "constrained_positional_model.classify_context_word('else')"
      ],
      "execution_count": 43,
      "outputs": [
        {
          "output_type": "execute_result",
          "data": {
            "application/vnd.google.colaboratory.intrinsic+json": {
              "type": "string"
            },
            "text/plain": [
              "'postpositional'"
            ]
          },
          "metadata": {
            "tags": []
          },
          "execution_count": 43
        }
      ]
    },
    {
      "cell_type": "code",
      "metadata": {
        "colab": {
          "base_uri": "https://localhost:8080/",
          "height": 0
        },
        "id": "hScLlI2XZgg_",
        "outputId": "838b35f2-11b5-46bd-ccb6-e97eda2aa0c3"
      },
      "source": [
        "constrained_positional_model.classify_context_word('cola')"
      ],
      "execution_count": 44,
      "outputs": [
        {
          "output_type": "execute_result",
          "data": {
            "application/vnd.google.colaboratory.intrinsic+json": {
              "type": "string"
            },
            "text/plain": [
              "'postpositional'"
            ]
          },
          "metadata": {
            "tags": []
          },
          "execution_count": 44
        }
      ]
    },
    {
      "cell_type": "markdown",
      "metadata": {
        "id": "XL052-zdZmBV"
      },
      "source": [
        "## Informational Features\n",
        "\n",
        "The informational features increase the importance of positions $p\\not\\in [-2; 2]$. [Levy et al. (2014)][1] showed that context words with word embeddings of large magnitude have high self-information. I would appear that the purpose of informational features is to amplify distant self-informational context words that indicate the general topic of a sentence!\n",
        "\n",
        " [1]: https://proceedings.neurips.cc/paper/2014/file/feab05aa91085b7a8012516bc3533958-Paper.pdf"
      ]
    },
    {
      "cell_type": "markdown",
      "metadata": {
        "id": "gtevbyEgaYjR"
      },
      "source": [
        "Context words most affected by informational features include “finance”, “sports”, and “politics”:"
      ]
    },
    {
      "cell_type": "code",
      "metadata": {
        "colab": {
          "base_uri": "https://localhost:8080/",
          "height": 0
        },
        "id": "qnlB_GOBaXjr",
        "outputId": "5b653cba-d3cb-4909-ad8e-f28146594722"
      },
      "source": [
        "positional_model.classify_context_word('finance')"
      ],
      "execution_count": 45,
      "outputs": [
        {
          "output_type": "execute_result",
          "data": {
            "application/vnd.google.colaboratory.intrinsic+json": {
              "type": "string"
            },
            "text/plain": [
              "'informational'"
            ]
          },
          "metadata": {
            "tags": []
          },
          "execution_count": 45
        }
      ]
    },
    {
      "cell_type": "code",
      "metadata": {
        "colab": {
          "base_uri": "https://localhost:8080/",
          "height": 0
        },
        "id": "NQxR2uE4afSx",
        "outputId": "7b44918a-848e-409c-ad7c-a36ed1bd44ff"
      },
      "source": [
        "positional_model.classify_context_word('sports')"
      ],
      "execution_count": 46,
      "outputs": [
        {
          "output_type": "execute_result",
          "data": {
            "application/vnd.google.colaboratory.intrinsic+json": {
              "type": "string"
            },
            "text/plain": [
              "'informational'"
            ]
          },
          "metadata": {
            "tags": []
          },
          "execution_count": 46
        }
      ]
    },
    {
      "cell_type": "code",
      "metadata": {
        "colab": {
          "base_uri": "https://localhost:8080/",
          "height": 0
        },
        "id": "H6Deo7q3agT9",
        "outputId": "9463be61-3937-42aa-e782-ad8a6908cd04"
      },
      "source": [
        "positional_model.classify_context_word('politics')"
      ],
      "execution_count": 47,
      "outputs": [
        {
          "output_type": "execute_result",
          "data": {
            "application/vnd.google.colaboratory.intrinsic+json": {
              "type": "string"
            },
            "text/plain": [
              "'informational'"
            ]
          },
          "metadata": {
            "tags": []
          },
          "execution_count": 47
        }
      ]
    },
    {
      "cell_type": "markdown",
      "metadata": {
        "id": "0r4it9FvakJd"
      },
      "source": [
        "In our constrained positional model, informational features are effectively replaced by ones, which is close to what the positional model has learnt."
      ]
    },
    {
      "cell_type": "markdown",
      "metadata": {
        "id": "mS6ufJewa-o1"
      },
      "source": [
        "## Conclusion\n",
        "\n",
        "Our findings show that positional embeddings encode concepts that are highly interpretable and easy to grasp for us humans. In combination with word embeddings, positional embeddings can be used for the classification of words according to their function in sentences."
      ]
    }
  ]
}